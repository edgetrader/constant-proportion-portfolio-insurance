{
 "cells": [
  {
   "cell_type": "markdown",
   "metadata": {},
   "source": [
    "# Constant Proportion Portfolio Insurance\n",
    "Portfolio risk management using diligent asset allocation strategy to limit downside risk   \n",
    "*by Chee-Foong on 24 Nov 2020*  \n",
    "\n",
    "---\n",
    "\n",
    "## Summary\n",
    "The constant proportion portfolio insurance is an asset allocation strategy between a risky asset and a safe asset.  The portfolio is rebalanced at regular periods (eg: monthly) with a primary objective of protecting downside risk, minimising the amount of maximum drawdown the portfolio is exposed to.\n",
    "\n",
    "This analysis compares the portfolio performance between a portfolio having 100% exposure to a risk asset and a portfolio with a CPPI allocation strategy.\n",
    "\n",
    "\n",
    "## Reference\n",
    "Course Materials and Projects of [Investment Management with Python & Machine Learning](https://online.edhec.edu/en/online-programmes/data-science-and-machine-learning-for-asset-management/) Course\n",
    "\n",
    "\n",
    "## CPPI Strategy\n",
    "1. Let TA be the total asset for investment at the beginning of the strategy\n",
    "2. Let PV be the portfolio value at any point in time of the investment period\n",
    "3. Set a floor F (in percentage terms) how much of TA to protect\n",
    "4. Cushion C will be the maximum amount of money you are willing to lose (C = PV - F x TA)\n",
    "5. Depending on your risk appetite, set a multipler M to determine the amount of money to invest in risky asset RA\n",
    "6. Amount to invest in RA = M x C\n",
    "7. Amount to invest in safe asset SA = PV - RA\n",
    "8. Repeat the strategy every month by taking reference how much PV is left in your investment\n",
    "\n",
    "## Example\n",
    "At the beginning of strategy\n",
    "- TA = 100000\n",
    "- F = 80%\n",
    "- C = 100000 - (100000 x 0.8) = 20000\n",
    "- M = 4\n",
    "- PV = 100000  \n",
    "\n",
    "Allocation:  \n",
    "RA = 4 x 20000 = 80000  \n",
    "SA = 20000  \n",
    "\n",
    "### Scenario 1 - When portfolio value drops but cushion is still positive, allocation to safe assets increases significantly\n",
    "When portfolio value now is 90000\n",
    "- PV = 90000\n",
    "- C = 90000 - (100000 x 0.8) = 10000\n",
    "\n",
    "Allocation:  \n",
    "RA = 4 x 10000 = 40000  \n",
    "SA = 90000 - 40000 = 50000  \n",
    "\n",
    "\n",
    "### Scenario 2 - When portfolio value drops to the floor value, cushion is 0 and all investments are into safe assets\n",
    "When portfolio value now is 80000\n",
    "- PV = 80000\n",
    "- C = 80000 - (100000 x 0.8) = 0\n",
    "\n",
    "Allocation:  \n",
    "RA = 4 x 0 = 0  \n",
    "SA = 80000 - 0 = 80000  \n",
    "\n",
    "\n",
    "### Scenario 3 - When portfolio value increases above the initial TA, cushion increases and amount to invest in risky asset exceeds portfolio value\n",
    "When portfolio value now is 120000\n",
    "- PV = 120000\n",
    "- C = 120000 - (100000 x 0.8) = 40000\n",
    "\n",
    "Allocation (Assuming leverage is not allowed):  \n",
    "RA = 4 x 40000 = 160000 but cannot invest more than PV, so RA = 120000  \n",
    "SA = 120000 - 120000 = 0  \n"
   ]
  },
  {
   "cell_type": "markdown",
   "metadata": {},
   "source": [
    "## Importing Libraries"
   ]
  },
  {
   "cell_type": "code",
   "execution_count": 1,
   "metadata": {},
   "outputs": [],
   "source": [
    "import warnings\n",
    "warnings.filterwarnings(\"ignore\", category=FutureWarning)\n",
    "warnings.filterwarnings(\"ignore\", category=Warning)\n",
    "\n",
    "import sys  \n",
    "sys.path.append('../src') \n",
    "from edge_risk_kit import *\n",
    "\n",
    "import edge_risk_kit as erk"
   ]
  },
  {
   "cell_type": "code",
   "execution_count": 2,
   "metadata": {},
   "outputs": [],
   "source": [
    "import numpy as np\n",
    "import pandas as pd\n",
    "from datetime import datetime\n",
    "\n",
    "import seaborn as sns\n",
    "import matplotlib.pyplot as plt\n",
    "%matplotlib inline\n",
    "\n",
    "DATA_FOLDER = '../data/'"
   ]
  },
  {
   "cell_type": "markdown",
   "metadata": {},
   "source": [
    "## Risky Asset\n",
    "\n",
    "- Download S&P 500 prices which will be used as a risky asset"
   ]
  },
  {
   "cell_type": "code",
   "execution_count": 3,
   "metadata": {},
   "outputs": [],
   "source": [
    "tickers = ['^GSPC']\n",
    "\n",
    "start_date = '1900-01-01'\n",
    "end_date = '2020-12-31'"
   ]
  },
  {
   "cell_type": "code",
   "execution_count": 4,
   "metadata": {},
   "outputs": [
    {
     "name": "stdout",
     "output_type": "stream",
     "text": [
      "[*********************100%***********************]  1 of 1 completed\n"
     ]
    }
   ],
   "source": [
    "import yfinance as yf\n",
    "\n",
    "tickerlist = {}\n",
    "for ticker in tickers:\n",
    "    tickerlist[ticker] = yf.Ticker(ticker).info['shortName']\n",
    "    \n",
    "data = yf.download(tickers, start=start_date, end=end_date)"
   ]
  },
  {
   "cell_type": "code",
   "execution_count": 5,
   "metadata": {},
   "outputs": [
    {
     "data": {
      "text/html": [
       "<div>\n",
       "<style scoped>\n",
       "    .dataframe tbody tr th:only-of-type {\n",
       "        vertical-align: middle;\n",
       "    }\n",
       "\n",
       "    .dataframe tbody tr th {\n",
       "        vertical-align: top;\n",
       "    }\n",
       "\n",
       "    .dataframe thead th {\n",
       "        text-align: right;\n",
       "    }\n",
       "</style>\n",
       "<table border=\"1\" class=\"dataframe\">\n",
       "  <thead>\n",
       "    <tr style=\"text-align: right;\">\n",
       "      <th></th>\n",
       "      <th>Open</th>\n",
       "      <th>High</th>\n",
       "      <th>Low</th>\n",
       "      <th>Close</th>\n",
       "      <th>Adj Close</th>\n",
       "      <th>Volume</th>\n",
       "    </tr>\n",
       "    <tr>\n",
       "      <th>Date</th>\n",
       "      <th></th>\n",
       "      <th></th>\n",
       "      <th></th>\n",
       "      <th></th>\n",
       "      <th></th>\n",
       "      <th></th>\n",
       "    </tr>\n",
       "  </thead>\n",
       "  <tbody>\n",
       "    <tr>\n",
       "      <th>1927-12-30</th>\n",
       "      <td>17.660000</td>\n",
       "      <td>17.660000</td>\n",
       "      <td>17.660000</td>\n",
       "      <td>17.660000</td>\n",
       "      <td>17.660000</td>\n",
       "      <td>0</td>\n",
       "    </tr>\n",
       "    <tr>\n",
       "      <th>1928-01-03</th>\n",
       "      <td>17.760000</td>\n",
       "      <td>17.760000</td>\n",
       "      <td>17.760000</td>\n",
       "      <td>17.760000</td>\n",
       "      <td>17.760000</td>\n",
       "      <td>0</td>\n",
       "    </tr>\n",
       "    <tr>\n",
       "      <th>1928-01-04</th>\n",
       "      <td>17.719999</td>\n",
       "      <td>17.719999</td>\n",
       "      <td>17.719999</td>\n",
       "      <td>17.719999</td>\n",
       "      <td>17.719999</td>\n",
       "      <td>0</td>\n",
       "    </tr>\n",
       "    <tr>\n",
       "      <th>1928-01-05</th>\n",
       "      <td>17.549999</td>\n",
       "      <td>17.549999</td>\n",
       "      <td>17.549999</td>\n",
       "      <td>17.549999</td>\n",
       "      <td>17.549999</td>\n",
       "      <td>0</td>\n",
       "    </tr>\n",
       "    <tr>\n",
       "      <th>1928-01-06</th>\n",
       "      <td>17.660000</td>\n",
       "      <td>17.660000</td>\n",
       "      <td>17.660000</td>\n",
       "      <td>17.660000</td>\n",
       "      <td>17.660000</td>\n",
       "      <td>0</td>\n",
       "    </tr>\n",
       "    <tr>\n",
       "      <th>...</th>\n",
       "      <td>...</td>\n",
       "      <td>...</td>\n",
       "      <td>...</td>\n",
       "      <td>...</td>\n",
       "      <td>...</td>\n",
       "      <td>...</td>\n",
       "    </tr>\n",
       "    <tr>\n",
       "      <th>2020-11-17</th>\n",
       "      <td>3610.310059</td>\n",
       "      <td>3623.110107</td>\n",
       "      <td>3588.679932</td>\n",
       "      <td>3609.530029</td>\n",
       "      <td>3609.530029</td>\n",
       "      <td>4799570000</td>\n",
       "    </tr>\n",
       "    <tr>\n",
       "      <th>2020-11-18</th>\n",
       "      <td>3612.090088</td>\n",
       "      <td>3619.090088</td>\n",
       "      <td>3567.330078</td>\n",
       "      <td>3567.790039</td>\n",
       "      <td>3567.790039</td>\n",
       "      <td>5274450000</td>\n",
       "    </tr>\n",
       "    <tr>\n",
       "      <th>2020-11-19</th>\n",
       "      <td>3559.409912</td>\n",
       "      <td>3585.219971</td>\n",
       "      <td>3543.840088</td>\n",
       "      <td>3581.870117</td>\n",
       "      <td>3581.870117</td>\n",
       "      <td>4347200000</td>\n",
       "    </tr>\n",
       "    <tr>\n",
       "      <th>2020-11-20</th>\n",
       "      <td>3579.310059</td>\n",
       "      <td>3581.229980</td>\n",
       "      <td>3556.850098</td>\n",
       "      <td>3557.540039</td>\n",
       "      <td>3557.540039</td>\n",
       "      <td>4218970000</td>\n",
       "    </tr>\n",
       "    <tr>\n",
       "      <th>2020-11-23</th>\n",
       "      <td>3566.820068</td>\n",
       "      <td>3589.810059</td>\n",
       "      <td>3552.770020</td>\n",
       "      <td>3577.590088</td>\n",
       "      <td>3577.590088</td>\n",
       "      <td>5036290000</td>\n",
       "    </tr>\n",
       "  </tbody>\n",
       "</table>\n",
       "<p>23336 rows × 6 columns</p>\n",
       "</div>"
      ],
      "text/plain": [
       "                   Open         High          Low        Close    Adj Close  \\\n",
       "Date                                                                          \n",
       "1927-12-30    17.660000    17.660000    17.660000    17.660000    17.660000   \n",
       "1928-01-03    17.760000    17.760000    17.760000    17.760000    17.760000   \n",
       "1928-01-04    17.719999    17.719999    17.719999    17.719999    17.719999   \n",
       "1928-01-05    17.549999    17.549999    17.549999    17.549999    17.549999   \n",
       "1928-01-06    17.660000    17.660000    17.660000    17.660000    17.660000   \n",
       "...                 ...          ...          ...          ...          ...   \n",
       "2020-11-17  3610.310059  3623.110107  3588.679932  3609.530029  3609.530029   \n",
       "2020-11-18  3612.090088  3619.090088  3567.330078  3567.790039  3567.790039   \n",
       "2020-11-19  3559.409912  3585.219971  3543.840088  3581.870117  3581.870117   \n",
       "2020-11-20  3579.310059  3581.229980  3556.850098  3557.540039  3557.540039   \n",
       "2020-11-23  3566.820068  3589.810059  3552.770020  3577.590088  3577.590088   \n",
       "\n",
       "                Volume  \n",
       "Date                    \n",
       "1927-12-30           0  \n",
       "1928-01-03           0  \n",
       "1928-01-04           0  \n",
       "1928-01-05           0  \n",
       "1928-01-06           0  \n",
       "...                ...  \n",
       "2020-11-17  4799570000  \n",
       "2020-11-18  5274450000  \n",
       "2020-11-19  4347200000  \n",
       "2020-11-20  4218970000  \n",
       "2020-11-23  5036290000  \n",
       "\n",
       "[23336 rows x 6 columns]"
      ]
     },
     "execution_count": 5,
     "metadata": {},
     "output_type": "execute_result"
    }
   ],
   "source": [
    "data"
   ]
  },
  {
   "cell_type": "code",
   "execution_count": 6,
   "metadata": {},
   "outputs": [
    {
     "data": {
      "image/png": "[encoded data removed]",
      "text/plain": [
       "<Figure size 864x432 with 1 Axes>"
      ]
     },
     "metadata": {
      "needs_background": "light"
     },
     "output_type": "display_data"
    }
   ],
   "source": [
    "prices = data[['Adj Close']].dropna()\n",
    "prices.columns = ['SnP']\n",
    "prices['1999':].plot(figsize=(12,6))\n",
    "plt.show()"
   ]
  },
  {
   "cell_type": "markdown",
   "metadata": {},
   "source": [
    "Since we are rebalancing every month, we are only interested in the month returns of the risk asset."
   ]
  },
  {
   "cell_type": "code",
   "execution_count": 7,
   "metadata": {},
   "outputs": [],
   "source": [
    "px_monthly = prices.resample('M').fillna('ffill')\n",
    "px_monthly.index = px_monthly.index.to_period('M')\n",
    "rets_monthly = px_monthly.pct_change().dropna()\n",
    "risky_r = rets_monthly"
   ]
  },
  {
   "cell_type": "markdown",
   "metadata": {},
   "source": [
    "## Performance and Risk Statistics of Portfolio Returns\n",
    "- Investment period from 1999 to 2020\n",
    "- Comparing performance of risky asset only portfolio and CPPI strategy portfolio\n",
    "- Assuming safe asset investment like bank deposits of 1% annualised return, multiplier of 2 and a floor set at 80%\n",
    "- The plots show the portfolio value of both risky asset portfolio (black-dotted) and CPPI strategy portfolio in blue\n",
    "- Notice that the volatility, VaR and maximum drawdown measures are reduced significantly without sacrificing too much reduction in Sharpe Ratio"
   ]
  },
  {
   "cell_type": "code",
   "execution_count": 8,
   "metadata": {},
   "outputs": [
    {
     "data": {
      "image/png": "[encoded data removed]",
      "text/plain": [
       "<Figure size 864x432 with 1 Axes>"
      ]
     },
     "metadata": {
      "needs_background": "light"
     },
     "output_type": "display_data"
    }
   ],
   "source": [
    "btr = erk.run_cppi(risky_r['1999':], riskfree_rate=0.01, m=2, floor=0.8)\n",
    "ax = btr['Wealth'].plot(figsize=(12,6), legend=False)\n",
    "btr['Risky Wealth'].plot(ax=ax, style='k--', legend=False)\n",
    "plt.show()"
   ]
  },
  {
   "cell_type": "markdown",
   "metadata": {},
   "source": [
    "### Risky Asset Portfolio"
   ]
  },
  {
   "cell_type": "code",
   "execution_count": 9,
   "metadata": {},
   "outputs": [
    {
     "data": {
      "text/html": [
       "<div>\n",
       "<style scoped>\n",
       "    .dataframe tbody tr th:only-of-type {\n",
       "        vertical-align: middle;\n",
       "    }\n",
       "\n",
       "    .dataframe tbody tr th {\n",
       "        vertical-align: top;\n",
       "    }\n",
       "\n",
       "    .dataframe thead th {\n",
       "        text-align: right;\n",
       "    }\n",
       "</style>\n",
       "<table border=\"1\" class=\"dataframe\">\n",
       "  <thead>\n",
       "    <tr style=\"text-align: right;\">\n",
       "      <th></th>\n",
       "      <th>Annualized Return</th>\n",
       "      <th>Annualized Vol</th>\n",
       "      <th>Skewness</th>\n",
       "      <th>Kurtosis</th>\n",
       "      <th>Cornish-Fisher VaR (5%)</th>\n",
       "      <th>Historic CVaR (5%)</th>\n",
       "      <th>Sharpe Ratio</th>\n",
       "      <th>Max Drawdown</th>\n",
       "    </tr>\n",
       "  </thead>\n",
       "  <tbody>\n",
       "    <tr>\n",
       "      <th>SnP</th>\n",
       "      <td>0.048215</td>\n",
       "      <td>0.150663</td>\n",
       "      <td>-0.513875</td>\n",
       "      <td>4.00376</td>\n",
       "      <td>0.071762</td>\n",
       "      <td>0.097704</td>\n",
       "      <td>0.117478</td>\n",
       "      <td>-0.525559</td>\n",
       "    </tr>\n",
       "  </tbody>\n",
       "</table>\n",
       "</div>"
      ],
      "text/plain": [
       "     Annualized Return  Annualized Vol  Skewness  Kurtosis  \\\n",
       "SnP           0.048215        0.150663 -0.513875   4.00376   \n",
       "\n",
       "     Cornish-Fisher VaR (5%)  Historic CVaR (5%)  Sharpe Ratio  Max Drawdown  \n",
       "SnP                 0.071762            0.097704      0.117478     -0.525559  "
      ]
     },
     "execution_count": 9,
     "metadata": {},
     "output_type": "execute_result"
    }
   ],
   "source": [
    "erk.summary_stats(btr['Risky Wealth'].pct_change().dropna())"
   ]
  },
  {
   "cell_type": "markdown",
   "metadata": {},
   "source": [
    "### CPPI Strategy Portfolio"
   ]
  },
  {
   "cell_type": "code",
   "execution_count": 10,
   "metadata": {},
   "outputs": [
    {
     "data": {
      "text/html": [
       "<div>\n",
       "<style scoped>\n",
       "    .dataframe tbody tr th:only-of-type {\n",
       "        vertical-align: middle;\n",
       "    }\n",
       "\n",
       "    .dataframe tbody tr th {\n",
       "        vertical-align: top;\n",
       "    }\n",
       "\n",
       "    .dataframe thead th {\n",
       "        text-align: right;\n",
       "    }\n",
       "</style>\n",
       "<table border=\"1\" class=\"dataframe\">\n",
       "  <thead>\n",
       "    <tr style=\"text-align: right;\">\n",
       "      <th></th>\n",
       "      <th>Annualized Return</th>\n",
       "      <th>Annualized Vol</th>\n",
       "      <th>Skewness</th>\n",
       "      <th>Kurtosis</th>\n",
       "      <th>Cornish-Fisher VaR (5%)</th>\n",
       "      <th>Historic CVaR (5%)</th>\n",
       "      <th>Sharpe Ratio</th>\n",
       "      <th>Max Drawdown</th>\n",
       "    </tr>\n",
       "  </thead>\n",
       "  <tbody>\n",
       "    <tr>\n",
       "      <th>SnP</th>\n",
       "      <td>0.040057</td>\n",
       "      <td>0.091919</td>\n",
       "      <td>-0.265548</td>\n",
       "      <td>7.665066</td>\n",
       "      <td>0.039403</td>\n",
       "      <td>0.060735</td>\n",
       "      <td>0.106377</td>\n",
       "      <td>-0.242517</td>\n",
       "    </tr>\n",
       "  </tbody>\n",
       "</table>\n",
       "</div>"
      ],
      "text/plain": [
       "     Annualized Return  Annualized Vol  Skewness  Kurtosis  \\\n",
       "SnP           0.040057        0.091919 -0.265548  7.665066   \n",
       "\n",
       "     Cornish-Fisher VaR (5%)  Historic CVaR (5%)  Sharpe Ratio  Max Drawdown  \n",
       "SnP                 0.039403            0.060735      0.106377     -0.242517  "
      ]
     },
     "execution_count": 10,
     "metadata": {},
     "output_type": "execute_result"
    }
   ],
   "source": [
    "erk.summary_stats(btr['Wealth'].pct_change().dropna())"
   ]
  },
  {
   "cell_type": "markdown",
   "metadata": {},
   "source": [
    "## Concluding Thoughts"
   ]
  },
  {
   "cell_type": "markdown",
   "metadata": {},
   "source": [
    "- Gap risk is the risk of breaching the floor because of discrete trading in CPPI strategy.  Gap risk will materialize when the portfolio is not rebalanced frequently enough.  Portfolio value may drop below floor value during the month before there is opportunity to rebalance.\n",
    "- As such, calibrating the multiplier is important.  Multiplier should be calibrated as a function of the maximum potential loss within a given trading interval."
   ]
  },
  {
   "cell_type": "code",
   "execution_count": null,
   "metadata": {},
   "outputs": [],
   "source": []
  }
 ],
 "metadata": {
  "kernelspec": {
   "display_name": "Python 3",
   "language": "python",
   "name": "python3"
  },
  "language_info": {
   "codemirror_mode": {
    "name": "ipython",
    "version": 3
   },
   "file_extension": ".py",
   "mimetype": "text/x-python",
   "name": "python",
   "nbconvert_exporter": "python",
   "pygments_lexer": "ipython3",
   "version": "3.8.3"
  }
 },
 "nbformat": 4,
 "nbformat_minor": 4
}
