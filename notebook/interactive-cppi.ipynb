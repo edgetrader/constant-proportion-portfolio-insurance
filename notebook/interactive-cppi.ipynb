{
 "cells": [
  {
   "cell_type": "markdown",
   "metadata": {},
   "source": [
    "# Analysing CPPI Strategies Interactively\n",
    "Portfolio risk management using diligent asset allocation strategy to limit downside risk   \n",
    "*by Chee-Foong on 24 Nov 2020*  \n",
    "\n",
    "---\n",
    "\n",
    "## Summary\n",
    "This is an interactive notebook to study and analyse the CPPI strategies in details.  Specifically, using simulated risky asset returns and observe the risk and performance of the CPPI portfolio.  For example, how various parameters affect the portfolio statistics like volatility and maximum drawdown.  In addition, we will also explore how potentially one should calibrate the multipler to minimise the number of violations (asset values dropping below the floor).\n",
    "\n",
    "## Reference\n",
    "Course Materials and Projects of [Investment Management with Python & Machine Learning](https://online.edhec.edu/en/online-programmes/data-science-and-machine-learning-for-asset-management/) Course\n"
   ]
  },
  {
   "cell_type": "markdown",
   "metadata": {},
   "source": [
    "## Importing Libraries"
   ]
  },
  {
   "cell_type": "code",
   "execution_count": 1,
   "metadata": {},
   "outputs": [],
   "source": [
    "import warnings\n",
    "warnings.filterwarnings(\"ignore\", category=FutureWarning)\n",
    "warnings.filterwarnings(\"ignore\", category=Warning)\n",
    "\n",
    "import sys  \n",
    "sys.path.append('../src') \n",
    "from edge_risk_kit import *\n",
    "\n",
    "import edge_risk_kit as erk"
   ]
  },
  {
   "cell_type": "code",
   "execution_count": 2,
   "metadata": {},
   "outputs": [],
   "source": [
    "import ipywidgets as widgets\n",
    "from IPython.display import display"
   ]
  },
  {
   "cell_type": "code",
   "execution_count": 3,
   "metadata": {},
   "outputs": [],
   "source": [
    "import numpy as np\n",
    "import pandas as pd\n",
    "from datetime import datetime\n",
    "\n",
    "import seaborn as sns\n",
    "import matplotlib.pyplot as plt\n",
    "%matplotlib inline\n",
    "\n",
    "DATA_FOLDER = '../data/'"
   ]
  },
  {
   "cell_type": "markdown",
   "metadata": {},
   "source": [
    "## Risky Asset\n",
    "\n",
    "- Download S&P 500 prices which will be used as a risky asset\n",
    "- Calculate and determine the expected return (mu) and voliatility (sigma) for geometric brownian motion simulation"
   ]
  },
  {
   "cell_type": "code",
   "execution_count": 37,
   "metadata": {},
   "outputs": [],
   "source": [
    "tickers = ['^GSPC']\n",
    "\n",
    "start_date = '1900-01-01'\n",
    "end_date = '2020-12-31'"
   ]
  },
  {
   "cell_type": "code",
   "execution_count": 38,
   "metadata": {},
   "outputs": [
    {
     "name": "stdout",
     "output_type": "stream",
     "text": [
      "[*********************100%***********************]  1 of 1 completed\n"
     ]
    }
   ],
   "source": [
    "import yfinance as yf\n",
    "\n",
    "tickerlist = {}\n",
    "for ticker in tickers:\n",
    "    tickerlist[ticker] = yf.Ticker(ticker).info['shortName']\n",
    "    \n",
    "data = yf.download(tickers, start=start_date, end=end_date)"
   ]
  },
  {
   "cell_type": "code",
   "execution_count": 39,
   "metadata": {},
   "outputs": [
    {
     "data": {
      "image/png": "[encoded data removed]",
      "text/plain": [
       "<Figure size 864x432 with 1 Axes>"
      ]
     },
     "metadata": {
      "needs_background": "light"
     },
     "output_type": "display_data"
    }
   ],
   "source": [
    "prices = data[['Adj Close']].dropna()\n",
    "prices.columns = ['SnP']\n",
    "prices['1999':].plot(figsize=(12,6))\n",
    "plt.show()"
   ]
  },
  {
   "cell_type": "code",
   "execution_count": 40,
   "metadata": {},
   "outputs": [],
   "source": [
    "px_monthly = prices.resample('M').fillna('ffill')\n",
    "px_monthly.index = px_monthly.index.to_period('M')\n",
    "rets_monthly = px_monthly.pct_change().dropna()\n",
    "risky_r = rets_monthly"
   ]
  },
  {
   "cell_type": "code",
   "execution_count": 41,
   "metadata": {},
   "outputs": [
    {
     "data": {
      "text/html": [
       "<div>\n",
       "<style scoped>\n",
       "    .dataframe tbody tr th:only-of-type {\n",
       "        vertical-align: middle;\n",
       "    }\n",
       "\n",
       "    .dataframe tbody tr th {\n",
       "        vertical-align: top;\n",
       "    }\n",
       "\n",
       "    .dataframe thead th {\n",
       "        text-align: right;\n",
       "    }\n",
       "</style>\n",
       "<table border=\"1\" class=\"dataframe\">\n",
       "  <thead>\n",
       "    <tr style=\"text-align: right;\">\n",
       "      <th></th>\n",
       "      <th>Annualized Return</th>\n",
       "      <th>Annualized Vol</th>\n",
       "      <th>Skewness</th>\n",
       "      <th>Kurtosis</th>\n",
       "      <th>Cornish-Fisher VaR (5%)</th>\n",
       "      <th>Historic CVaR (5%)</th>\n",
       "      <th>Sharpe Ratio</th>\n",
       "      <th>Max Drawdown</th>\n",
       "    </tr>\n",
       "  </thead>\n",
       "  <tbody>\n",
       "    <tr>\n",
       "      <th>SnP</th>\n",
       "      <td>0.059008</td>\n",
       "      <td>0.186555</td>\n",
       "      <td>0.128286</td>\n",
       "      <td>10.945787</td>\n",
       "      <td>0.071688</td>\n",
       "      <td>0.122842</td>\n",
       "      <td>0.151101</td>\n",
       "      <td>-0.860296</td>\n",
       "    </tr>\n",
       "  </tbody>\n",
       "</table>\n",
       "</div>"
      ],
      "text/plain": [
       "     Annualized Return  Annualized Vol  Skewness   Kurtosis  \\\n",
       "SnP           0.059008        0.186555  0.128286  10.945787   \n",
       "\n",
       "     Cornish-Fisher VaR (5%)  Historic CVaR (5%)  Sharpe Ratio  Max Drawdown  \n",
       "SnP                 0.071688            0.122842      0.151101     -0.860296  "
      ]
     },
     "execution_count": 41,
     "metadata": {},
     "output_type": "execute_result"
    }
   ],
   "source": [
    "erk.summary_stats(risky_r)"
   ]
  },
  {
   "cell_type": "markdown",
   "metadata": {},
   "source": [
    "## Interactive Plots\n",
    "### Generating Geometric Brownian Motion of the Risky Asset\n",
    "\n",
    "#### Parameters\n",
    "- **n_scenarios**: Number of scenarios to simulate\n",
    "- **n_years**: Number of years forward per scenario\n",
    "- **steps_per_year**: Number of steps per year\n",
    "- **mu**: Expected return\n",
    "- **sigma**: Volatility\n",
    "- **s_0**: Initial investment amount\n",
    "\n",
    "#### Output\n",
    "- Simulated investment amount"
   ]
  },
  {
   "cell_type": "markdown",
   "metadata": {},
   "source": [
    "Adjust the expected return (mu) and volatility (sigma) to be close to that observed above on the risky asset."
   ]
  },
  {
   "cell_type": "code",
   "execution_count": 19,
   "metadata": {},
   "outputs": [
    {
     "data": {
      "application/vnd.jupyter.widget-view+json": {
       "model_id": "bcc6c6dd0b4c4eda9bf4161dd9b2c62a",
       "version_major": 2,
       "version_minor": 0
      },
      "text/plain": [
       "interactive(children=(IntSlider(value=50, description='n_scenarios', min=1), FloatSlider(value=0.0, descriptio…"
      ]
     },
     "metadata": {},
     "output_type": "display_data"
    }
   ],
   "source": [
    "def show_gbm(n_scenarios, mu, sigma):\n",
    "    s_0 = 100\n",
    "    n_years = 10\n",
    "    steps_per_year = 12\n",
    "\n",
    "    prices = erk.gbm(n_years=n_years, n_scenarios=n_scenarios, mu=mu, sigma= sigma, \n",
    "                     steps_per_year=steps_per_year, s_0=s_0)\n",
    "    ax = prices.plot(legend=False, color='indianred', alpha=0.5, linewidth=2, figsize=(12,5))\n",
    "    ax.axhline(y=s_0, ls=\":\", color='black')\n",
    "#     ax.set_ylim(top=400)\n",
    "    ax.plot(0, s_0, marker='o', color='darkred', alpha=0.2)\n",
    "    \n",
    "gbm_controls = widgets.interactive(show_gbm, \n",
    "                                   n_scenarios = (1,50,1),\n",
    "                                   mu = (-0.2,0.2,0.01),\n",
    "                                   sigma = (0, .3, .01)\n",
    "                                  )\n",
    "\n",
    "display(gbm_controls)"
   ]
  },
  {
   "cell_type": "markdown",
   "metadata": {},
   "source": [
    "## Incorporating the simulated risky asset investment value to the CPPI strategy"
   ]
  },
  {
   "cell_type": "code",
   "execution_count": 50,
   "metadata": {},
   "outputs": [
    {
     "data": {
      "application/vnd.jupyter.widget-view+json": {
       "model_id": "e8a36c619fdd474f96700b284e036022",
       "version_major": 2,
       "version_minor": 0
      },
      "text/plain": [
       "interactive(children=(IntSlider(value=50, description='n_scenarios', max=1000, min=1, step=5), FloatSlider(val…"
      ]
     },
     "metadata": {},
     "output_type": "display_data"
    }
   ],
   "source": [
    "### PLOT\n",
    "def show_cppi(n_scenarios=50, mu=0.07, sigma=0.15, m=3, floor=0., riskfree_rate=0.03, y_max=100):\n",
    "    \"\"\"\n",
    "    Plot the results of a Monte Carlo Simulation of CPPI\n",
    "    \"\"\"\n",
    "    start=100\n",
    "    sim_rets = erk.gbm(n_scenarios=n_scenarios, mu=mu, sigma=sigma, prices=False, steps_per_year=12)\n",
    "    risky_r = pd.DataFrame(sim_rets)\n",
    "    btr = erk.run_cppi(risky_r=pd.DataFrame(risky_r), riskfree_rate=riskfree_rate, m=m, start=start, floor=floor)\n",
    "    wealth = btr['Wealth']\n",
    "    y_max = wealth.values.max() * y_max/100\n",
    "    ax = wealth.plot(legend=False, alpha=0.3, color=\"indianred\", figsize=(12,6))\n",
    "    ax.axhline(y=start, ls=\":\", color='black')\n",
    "    ax.axhline(y=start*floor, ls=\"--\", color='red')\n",
    "    ax.set_ylim(top=y_max)\n",
    "    \n",
    "### CONTROLS\n",
    "cppi_controls = widgets.interactive(\n",
    "    show_cppi,\n",
    "    n_scenarios=widgets.IntSlider(min=1, max=1000, step=5, value=50),\n",
    "    mu=widgets.FloatSlider(min=0, max=0.2, step=0.01, value=0.06, description='return'),\n",
    "    sigma=widgets.FloatSlider(min=0, max=0.3, step=0.01, value=0.18, description='volatility'),\n",
    "    floor=(0, 2, .1),\n",
    "    m=(1, 5, .5),\n",
    "    riskfree_rate=(0.,.05,.01),\n",
    "    y_max=widgets.IntSlider(min=0, max=100, step=1, value=100, \n",
    "                            description='Zoom Y Axis')\n",
    "    )\n",
    "\n",
    "### DISPLAY\n",
    "display(cppi_controls)"
   ]
  },
  {
   "cell_type": "markdown",
   "metadata": {},
   "source": [
    "### Observations\n",
    "\n",
    "1. By default, there are 50 simulated paths of CPPI investment value, over a period of 10 years with 12 monthly steps.  Expected return mu is positive, then most simulated path ends above 100 at the end of year 10.  Volatility is high and generating a large distribution of terminal value.\n",
    "\n",
    "2. Adjust the floor upwards from 0.  Observe how the CPPI strategy will protect investment value from dropping below the floor.  Reduce **Zoom Y Axis** to see how the simulated paths avoid falling through the floor.\n",
    "\n",
    "3. Adjust the m upwards will lead to scenarios with much higher returns.  However, this may also lead to larger dispersion of returns and hence lower sharpe ratios.\n",
    "\n",
    "4. Adjust the volatility upwards will lead to gap risks.  There will be scenarios that investment value falls through the floor because rebalancing is not frequent enough.  One can minimise gap risk by reducing m."
   ]
  },
  {
   "cell_type": "markdown",
   "metadata": {},
   "source": [
    "## Interactive CPPI Simulation with Terminal Value Distribution\n",
    "\n",
    "- Studying the Termina Value Distribution of simulated paths"
   ]
  },
  {
   "cell_type": "code",
   "execution_count": 51,
   "metadata": {},
   "outputs": [
    {
     "data": {
      "application/vnd.jupyter.widget-view+json": {
       "model_id": "dffc3ea8472a426587dff8be4a159606",
       "version_major": 2,
       "version_minor": 0
      },
      "text/plain": [
       "interactive(children=(IntSlider(value=500, description='n_scenarios', max=1000, min=1), FloatSlider(value=0.06…"
      ]
     },
     "metadata": {},
     "output_type": "display_data"
    }
   ],
   "source": [
    "### PLOT\n",
    "def show_cppi(n_scenarios=50, mu=0.07, sigma=0.15, m=3, floor=0., riskfree_rate=0.03, y_max=100):\n",
    "    \"\"\"\n",
    "    Plot the results of a Monte Carlo Simulation of CPPI\n",
    "    \"\"\"\n",
    "    start=100\n",
    "    sim_rets = erk.gbm(n_scenarios=n_scenarios, mu=mu, sigma=sigma, prices=False, steps_per_year=12)\n",
    "    risky_r = pd.DataFrame(sim_rets)\n",
    "    btr = erk.run_cppi(risky_r=pd.DataFrame(risky_r), riskfree_rate=riskfree_rate, m=m, start=start, floor=floor)\n",
    "    wealth = btr['Wealth']\n",
    "    y_max = wealth.values.max() * y_max/100\n",
    "\n",
    "    terminal_wealth = wealth.iloc[-1]\n",
    "    \n",
    "    fig, (wealth_ax, hist_ax) = plt.subplots(nrows=1, ncols=2, sharey=True, \n",
    "                                             gridspec_kw={'width_ratios':[3,2]}, figsize=(24,9))\n",
    "    plt.subplots_adjust(wspace=0.0)\n",
    "    \n",
    "    wealth.plot(ax=wealth_ax, legend=False, alpha=0.3, color=\"indianred\")\n",
    "    wealth_ax.axhline(y=start, ls=\":\", color='black')\n",
    "    wealth_ax.axhline(y=start*floor, ls=\"--\", color='red')\n",
    "    wealth_ax.set_ylim(top=y_max)\n",
    "    \n",
    "    terminal_wealth.plot.hist(ax=hist_ax, bins=50, ec='w', fc='indianred', orientation='horizontal')\n",
    "    hist_ax.axhline(y=start, ls=\":\", color='black')\n",
    "\n",
    "### CONTROLS\n",
    "cppi_controls = widgets.interactive(\n",
    "    show_cppi,\n",
    "    n_scenarios=widgets.IntSlider(min=1, max=1000, step=1, value=500),\n",
    "    mu=widgets.FloatSlider(min=0, max=0.2, step=0.01, value=0.06, \n",
    "                           description='return'),\n",
    "    sigma=widgets.FloatSlider(min=0, max=0.3, step=0.01, value=0.18, \n",
    "                              description='volatility'),\n",
    "    floor=(0, 2, .1),\n",
    "    m=(1, 5, .5),\n",
    "    riskfree_rate=(0.,.05,.01),\n",
    "    y_max=widgets.IntSlider(min=0, max=100, step=1, value=100, \n",
    "                            description='Zoom Y Axis')\n",
    "    )\n",
    "\n",
    "### DISPLAY\n",
    "display(cppi_controls)"
   ]
  },
  {
   "cell_type": "markdown",
   "metadata": {},
   "source": [
    "## Observations"
   ]
  },
  {
   "cell_type": "markdown",
   "metadata": {},
   "source": [
    "1. By default, the expected return is positive.  Hence most of the simulated paths will end up with terminal value greater than the initial investment amount.  The volatility controls the dispersion of the terminal value.\n",
    "2. Adjust the floor value to 0.8.  Note how the investment amount did not fall below the floor.  However, the number of positive simulated paths remain stable.  There is no improvement to the upside.\n",
    "3. Adjust m upward does not really improve the number of positive terminal values.  On the other hand, higher m in a volatile environment may cause some paths to drop below the floor during the investment period and potentially at terminal value."
   ]
  },
  {
   "cell_type": "markdown",
   "metadata": {},
   "source": [
    "## Interactive CPPI Simulation with Performance Risk Statistics and Violation Count"
   ]
  },
  {
   "cell_type": "code",
   "execution_count": 54,
   "metadata": {},
   "outputs": [
    {
     "data": {
      "application/vnd.jupyter.widget-view+json": {
       "model_id": "b880e5c64ffe4fd2960f2365751edc12",
       "version_major": 2,
       "version_minor": 0
      },
      "text/plain": [
       "interactive(children=(IntSlider(value=500, description='n_scenarios', max=1000, min=1), FloatSlider(value=0.06…"
      ]
     },
     "metadata": {},
     "output_type": "display_data"
    }
   ],
   "source": [
    "### PLOT\n",
    "def show_cppi(n_scenarios=50, mu=0.07, sigma=0.15, m=3, floor=0., riskfree_rate=0.03, y_max=100):\n",
    "    \"\"\"\n",
    "    Plot the results of a Monte Carlo Simulation of CPPI\n",
    "    \"\"\"\n",
    "    start=100\n",
    "    sim_rets = erk.gbm(n_scenarios=n_scenarios, mu=mu, sigma=sigma, prices=False, steps_per_year=12)\n",
    "    risky_r = pd.DataFrame(sim_rets)\n",
    "    btr = erk.run_cppi(risky_r=pd.DataFrame(risky_r), riskfree_rate=riskfree_rate, m=m, start=start, floor=floor)\n",
    "    wealth = btr['Wealth']\n",
    "    \n",
    "    y_max = wealth.values.max() * y_max/100\n",
    "    terminal_wealth = wealth.iloc[-1]\n",
    "\n",
    "    tw_mean = terminal_wealth.mean()\n",
    "    tw_median = terminal_wealth.median()\n",
    "    failure_mask = np.less(terminal_wealth, start*floor)\n",
    "    n_failures = failure_mask.sum()\n",
    "    p_fail = n_failures/n_scenarios\n",
    "    \n",
    "    e_shortfall = np.dot(terminal_wealth-start*floor, failure_mask)/n_failures if n_failures > 0 else 0.0\n",
    "    \n",
    "    fig, (wealth_ax, hist_ax) = plt.subplots(nrows=1, ncols=2, sharey=True, \n",
    "                                             gridspec_kw={'width_ratios':[3,2]}, figsize=(24,9))\n",
    "    plt.subplots_adjust(wspace=0.0)\n",
    "    \n",
    "    wealth.plot(ax=wealth_ax, legend=False, alpha=0.3, color=\"indianred\")\n",
    "    wealth_ax.axhline(y=start, ls=\":\", color='black')\n",
    "    wealth_ax.axhline(y=start*floor, ls=\"--\", color='red')\n",
    "    wealth_ax.set_ylim(top=y_max)\n",
    "    \n",
    "    terminal_wealth.plot.hist(ax=hist_ax, bins=50, ec='w', fc='indianred', orientation='horizontal')\n",
    "    hist_ax.axhline(y=start, ls=\":\", color='black')\n",
    "    hist_ax.axhline(y=tw_mean, ls=\":\", color='blue')\n",
    "    hist_ax.axhline(y=tw_median, ls=\":\", color='purple')\n",
    "    hist_ax.annotate(f\"Mean: ${int(tw_mean)}\", xy=(.4,.9), xycoords='axes fraction', fontsize=24)\n",
    "    hist_ax.annotate(f\"Median: ${int(tw_median)}\", xy=(.4,.85), xycoords='axes fraction', fontsize=24)\n",
    "    if (floor > 0.01):\n",
    "        hist_ax.axhline(y=start*floor, ls=\"--\", color='red', linewidth=3)\n",
    "        hist_ax.annotate(f\"Violations: {n_failures} ({p_fail*100:2.2f}%)\\nE(shortfall)=${e_shortfall:2.2f}\", \n",
    "                         xy=(.4, .7), xycoords='axes fraction', fontsize=24)\n",
    "\n",
    "### CONTROLS        \n",
    "cppi_controls = widgets.interactive(\n",
    "    show_cppi, \n",
    "    n_scenarios=widgets.IntSlider(min=1, max=1000, step=1, value=500),\n",
    "    mu=widgets.FloatSlider(min=0, max=0.2, step=0.01, value=0.06, \n",
    "                           description='return'),\n",
    "    sigma=widgets.FloatSlider(min=0, max=0.3, step=0.01, value=0.18, \n",
    "                              description='volatility'),\n",
    "    floor=(0, 2, .1),\n",
    "    m=(1, 5, .5),\n",
    "    riskfree_rate=(0.,.05,.01),\n",
    "    y_max=widgets.IntSlider(min=0, max=100, step=1, value=100, description='Zoom Y Axis')\n",
    ")\n",
    "\n",
    "### DISPLAY\n",
    "display(cppi_controls)"
   ]
  },
  {
   "cell_type": "markdown",
   "metadata": {},
   "source": [
    "## Observations\n",
    "\n",
    "1. Increasing the m does not change the mean and median of the terminal value significantly.\n",
    "2. Violations (terminal value below the floor) occurs when m and volatility is high enough.  Even then the expected shortfall is relatively small.\n",
    "3. The multiplier m should be calibrated to minimise gap risk based on portfolio volatility estimate and be flexible in making an adjustment under extreme stress market conditions."
   ]
  },
  {
   "cell_type": "code",
   "execution_count": null,
   "metadata": {},
   "outputs": [],
   "source": []
  }
 ],
 "metadata": {
  "kernelspec": {
   "display_name": "Python 3",
   "language": "python",
   "name": "python3"
  },
  "language_info": {
   "codemirror_mode": {
    "name": "ipython",
    "version": 3
   },
   "file_extension": ".py",
   "mimetype": "text/x-python",
   "name": "python",
   "nbconvert_exporter": "python",
   "pygments_lexer": "ipython3",
   "version": "3.8.3"
  }
 },
 "nbformat": 4,
 "nbformat_minor": 4
}
